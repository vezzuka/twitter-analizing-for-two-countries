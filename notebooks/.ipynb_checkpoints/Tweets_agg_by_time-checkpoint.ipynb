{
 "cells": [
  {
   "cell_type": "code",
   "execution_count": 109,
   "id": "262da5c9-4bd5-4276-918c-8bf4bc7d0d58",
   "metadata": {},
   "outputs": [],
   "source": [
    "# Import libraries\n",
    "\n",
    "import pandas as pd\n",
    "from plotly.subplots import make_subplots\n",
    "import plotly.graph_objects as go\n",
    "\n",
    "import plotly.express as px\n"
   ]
  },
  {
   "cell_type": "code",
   "execution_count": 74,
   "id": "9e7e4eea-ce34-41ec-b318-514fbe0a04e9",
   "metadata": {},
   "outputs": [
    {
     "data": {
      "text/html": [
       "<div>\n",
       "<style scoped>\n",
       "    .dataframe tbody tr th:only-of-type {\n",
       "        vertical-align: middle;\n",
       "    }\n",
       "\n",
       "    .dataframe tbody tr th {\n",
       "        vertical-align: top;\n",
       "    }\n",
       "\n",
       "    .dataframe thead th {\n",
       "        text-align: right;\n",
       "    }\n",
       "</style>\n",
       "<table border=\"1\" class=\"dataframe\">\n",
       "  <thead>\n",
       "    <tr style=\"text-align: right;\">\n",
       "      <th></th>\n",
       "      <th>name</th>\n",
       "      <th>user</th>\n",
       "      <th>date</th>\n",
       "      <th>category</th>\n",
       "      <th>id</th>\n",
       "      <th>content</th>\n",
       "      <th>lang</th>\n",
       "      <th>sourceLabel</th>\n",
       "      <th>inReplyToTweetId</th>\n",
       "      <th>inReplyToUser</th>\n",
       "      <th>mentionedUsers</th>\n",
       "      <th>hashtags</th>\n",
       "      <th>replyCount</th>\n",
       "      <th>retweetCount</th>\n",
       "      <th>likeCount</th>\n",
       "      <th>quoteCount</th>\n",
       "    </tr>\n",
       "  </thead>\n",
       "  <tbody>\n",
       "    <tr>\n",
       "      <th>0</th>\n",
       "      <td>Elon Musk</td>\n",
       "      <td>{'_type': 'snscrape.modules.twitter.User', 'us...</td>\n",
       "      <td>2022-11-30 17:22:12+00:00</td>\n",
       "      <td>Tech CEO</td>\n",
       "      <td>1.598004e+18</td>\n",
       "      <td>@EvaFoxU @Reuters Exactly. The obvious reality...</td>\n",
       "      <td>en</td>\n",
       "      <td>Twitter for iPhone</td>\n",
       "      <td>1.597924e+18</td>\n",
       "      <td>{'_type': 'snscrape.modules.twitter.User', 'us...</td>\n",
       "      <td>[{'_type': 'snscrape.modules.twitter.User', 'u...</td>\n",
       "      <td>NaN</td>\n",
       "      <td>2565.0</td>\n",
       "      <td>9638.0</td>\n",
       "      <td>41337.0</td>\n",
       "      <td>1205.0</td>\n",
       "    </tr>\n",
       "    <tr>\n",
       "      <th>1</th>\n",
       "      <td>Elon Musk</td>\n",
       "      <td>{'_type': 'snscrape.modules.twitter.User', 'us...</td>\n",
       "      <td>2022-11-30 15:54:33+00:00</td>\n",
       "      <td>Tech CEO</td>\n",
       "      <td>1.597982e+18</td>\n",
       "      <td>Update from @Neuralink at 6pm PT</td>\n",
       "      <td>en</td>\n",
       "      <td>Twitter for iPhone</td>\n",
       "      <td>NaN</td>\n",
       "      <td>NaN</td>\n",
       "      <td>[{'_type': 'snscrape.modules.twitter.User', 'u...</td>\n",
       "      <td>NaN</td>\n",
       "      <td>6211.0</td>\n",
       "      <td>6405.0</td>\n",
       "      <td>71890.0</td>\n",
       "      <td>842.0</td>\n",
       "    </tr>\n",
       "    <tr>\n",
       "      <th>2</th>\n",
       "      <td>Elon Musk</td>\n",
       "      <td>{'_type': 'snscrape.modules.twitter.User', 'us...</td>\n",
       "      <td>2022-11-30 09:39:14+00:00</td>\n",
       "      <td>Tech CEO</td>\n",
       "      <td>1.597888e+18</td>\n",
       "      <td>@NorthmanTrader @vincent13031925 Exactly</td>\n",
       "      <td>en</td>\n",
       "      <td>Twitter for iPhone</td>\n",
       "      <td>1.597881e+18</td>\n",
       "      <td>{'_type': 'snscrape.modules.twitter.User', 'us...</td>\n",
       "      <td>[{'_type': 'snscrape.modules.twitter.User', 'u...</td>\n",
       "      <td>NaN</td>\n",
       "      <td>569.0</td>\n",
       "      <td>257.0</td>\n",
       "      <td>5336.0</td>\n",
       "      <td>25.0</td>\n",
       "    </tr>\n",
       "    <tr>\n",
       "      <th>3</th>\n",
       "      <td>Elon Musk</td>\n",
       "      <td>{'_type': 'snscrape.modules.twitter.User', 'us...</td>\n",
       "      <td>2022-11-30 09:03:04+00:00</td>\n",
       "      <td>Tech CEO</td>\n",
       "      <td>1.597879e+18</td>\n",
       "      <td>@vincent13031925 Trend is concerning. Fed need...</td>\n",
       "      <td>en</td>\n",
       "      <td>Twitter for iPhone</td>\n",
       "      <td>1.597706e+18</td>\n",
       "      <td>{'_type': 'snscrape.modules.twitter.User', 'us...</td>\n",
       "      <td>[{'_type': 'snscrape.modules.twitter.User', 'u...</td>\n",
       "      <td>NaN</td>\n",
       "      <td>7455.0</td>\n",
       "      <td>10295.0</td>\n",
       "      <td>93386.0</td>\n",
       "      <td>1163.0</td>\n",
       "    </tr>\n",
       "    <tr>\n",
       "      <th>4</th>\n",
       "      <td>Elon Musk</td>\n",
       "      <td>{'_type': 'snscrape.modules.twitter.User', 'us...</td>\n",
       "      <td>2022-11-30 08:40:11+00:00</td>\n",
       "      <td>Tech CEO</td>\n",
       "      <td>1.597873e+18</td>\n",
       "      <td>@teslaownersSV Much more, but I am simply stat...</td>\n",
       "      <td>en</td>\n",
       "      <td>Twitter for iPhone</td>\n",
       "      <td>1.597871e+18</td>\n",
       "      <td>{'_type': 'snscrape.modules.twitter.User', 'us...</td>\n",
       "      <td>[{'_type': 'snscrape.modules.twitter.User', 'u...</td>\n",
       "      <td>NaN</td>\n",
       "      <td>646.0</td>\n",
       "      <td>690.0</td>\n",
       "      <td>9893.0</td>\n",
       "      <td>40.0</td>\n",
       "    </tr>\n",
       "  </tbody>\n",
       "</table>\n",
       "</div>"
      ],
      "text/plain": [
       "        name                                               user  \\\n",
       "0  Elon Musk  {'_type': 'snscrape.modules.twitter.User', 'us...   \n",
       "1  Elon Musk  {'_type': 'snscrape.modules.twitter.User', 'us...   \n",
       "2  Elon Musk  {'_type': 'snscrape.modules.twitter.User', 'us...   \n",
       "3  Elon Musk  {'_type': 'snscrape.modules.twitter.User', 'us...   \n",
       "4  Elon Musk  {'_type': 'snscrape.modules.twitter.User', 'us...   \n",
       "\n",
       "                        date  category            id  \\\n",
       "0  2022-11-30 17:22:12+00:00  Tech CEO  1.598004e+18   \n",
       "1  2022-11-30 15:54:33+00:00  Tech CEO  1.597982e+18   \n",
       "2  2022-11-30 09:39:14+00:00  Tech CEO  1.597888e+18   \n",
       "3  2022-11-30 09:03:04+00:00  Tech CEO  1.597879e+18   \n",
       "4  2022-11-30 08:40:11+00:00  Tech CEO  1.597873e+18   \n",
       "\n",
       "                                             content lang         sourceLabel  \\\n",
       "0  @EvaFoxU @Reuters Exactly. The obvious reality...   en  Twitter for iPhone   \n",
       "1                   Update from @Neuralink at 6pm PT   en  Twitter for iPhone   \n",
       "2           @NorthmanTrader @vincent13031925 Exactly   en  Twitter for iPhone   \n",
       "3  @vincent13031925 Trend is concerning. Fed need...   en  Twitter for iPhone   \n",
       "4  @teslaownersSV Much more, but I am simply stat...   en  Twitter for iPhone   \n",
       "\n",
       "   inReplyToTweetId                                      inReplyToUser  \\\n",
       "0      1.597924e+18  {'_type': 'snscrape.modules.twitter.User', 'us...   \n",
       "1               NaN                                                NaN   \n",
       "2      1.597881e+18  {'_type': 'snscrape.modules.twitter.User', 'us...   \n",
       "3      1.597706e+18  {'_type': 'snscrape.modules.twitter.User', 'us...   \n",
       "4      1.597871e+18  {'_type': 'snscrape.modules.twitter.User', 'us...   \n",
       "\n",
       "                                      mentionedUsers hashtags  replyCount  \\\n",
       "0  [{'_type': 'snscrape.modules.twitter.User', 'u...      NaN      2565.0   \n",
       "1  [{'_type': 'snscrape.modules.twitter.User', 'u...      NaN      6211.0   \n",
       "2  [{'_type': 'snscrape.modules.twitter.User', 'u...      NaN       569.0   \n",
       "3  [{'_type': 'snscrape.modules.twitter.User', 'u...      NaN      7455.0   \n",
       "4  [{'_type': 'snscrape.modules.twitter.User', 'u...      NaN       646.0   \n",
       "\n",
       "   retweetCount  likeCount  quoteCount  \n",
       "0        9638.0    41337.0      1205.0  \n",
       "1        6405.0    71890.0       842.0  \n",
       "2         257.0     5336.0        25.0  \n",
       "3       10295.0    93386.0      1163.0  \n",
       "4         690.0     9893.0        40.0  "
      ]
     },
     "execution_count": 74,
     "metadata": {},
     "output_type": "execute_result"
    }
   ],
   "source": [
    "# Load raw data from scraping\n",
    "\n",
    "tweets_clean = pd.read_csv('../data/tweets_clean.csv')\n",
    "tweets_clean.head()"
   ]
  },
  {
   "cell_type": "code",
   "execution_count": 136,
   "id": "323e2b59-bdc3-4e6c-b530-dd7080a684b3",
   "metadata": {},
   "outputs": [
    {
     "data": {
      "text/html": [
       "<div>\n",
       "<style scoped>\n",
       "    .dataframe tbody tr th:only-of-type {\n",
       "        vertical-align: middle;\n",
       "    }\n",
       "\n",
       "    .dataframe tbody tr th {\n",
       "        vertical-align: top;\n",
       "    }\n",
       "\n",
       "    .dataframe thead th {\n",
       "        text-align: right;\n",
       "    }\n",
       "</style>\n",
       "<table border=\"1\" class=\"dataframe\">\n",
       "  <thead>\n",
       "    <tr style=\"text-align: right;\">\n",
       "      <th></th>\n",
       "      <th>name</th>\n",
       "      <th>Device</th>\n",
       "      <th>Tweets</th>\n",
       "    </tr>\n",
       "  </thead>\n",
       "  <tbody>\n",
       "    <tr>\n",
       "      <th>0</th>\n",
       "      <td>Alexandria Ocaso-Cortez</td>\n",
       "      <td>Iphone</td>\n",
       "      <td>527</td>\n",
       "    </tr>\n",
       "    <tr>\n",
       "      <th>1</th>\n",
       "      <td>Barack Obama</td>\n",
       "      <td>Iphone</td>\n",
       "      <td>151</td>\n",
       "    </tr>\n",
       "    <tr>\n",
       "      <th>2</th>\n",
       "      <td>Barack Obama</td>\n",
       "      <td>Media Studio</td>\n",
       "      <td>47</td>\n",
       "    </tr>\n",
       "    <tr>\n",
       "      <th>3</th>\n",
       "      <td>Barack Obama</td>\n",
       "      <td>Web App</td>\n",
       "      <td>151</td>\n",
       "    </tr>\n",
       "    <tr>\n",
       "      <th>4</th>\n",
       "      <td>Bill Gates</td>\n",
       "      <td>Iphone</td>\n",
       "      <td>2</td>\n",
       "    </tr>\n",
       "    <tr>\n",
       "      <th>5</th>\n",
       "      <td>Bill Gates</td>\n",
       "      <td>Media Studio</td>\n",
       "      <td>26</td>\n",
       "    </tr>\n",
       "    <tr>\n",
       "      <th>6</th>\n",
       "      <td>Bill Gates</td>\n",
       "      <td>Web App</td>\n",
       "      <td>330</td>\n",
       "    </tr>\n",
       "    <tr>\n",
       "      <th>7</th>\n",
       "      <td>Ellen Degeneres</td>\n",
       "      <td>Iphone</td>\n",
       "      <td>28</td>\n",
       "    </tr>\n",
       "    <tr>\n",
       "      <th>8</th>\n",
       "      <td>Ellen Degeneres</td>\n",
       "      <td>Media Studio</td>\n",
       "      <td>709</td>\n",
       "    </tr>\n",
       "    <tr>\n",
       "      <th>9</th>\n",
       "      <td>Ellen Degeneres</td>\n",
       "      <td>Web App</td>\n",
       "      <td>128</td>\n",
       "    </tr>\n",
       "    <tr>\n",
       "      <th>10</th>\n",
       "      <td>Elon Musk</td>\n",
       "      <td>Iphone</td>\n",
       "      <td>4103</td>\n",
       "    </tr>\n",
       "    <tr>\n",
       "      <th>11</th>\n",
       "      <td>Jeff Bezos</td>\n",
       "      <td>Iphone</td>\n",
       "      <td>85</td>\n",
       "    </tr>\n",
       "    <tr>\n",
       "      <th>12</th>\n",
       "      <td>Jeff Bezos</td>\n",
       "      <td>Media Studio</td>\n",
       "      <td>3</td>\n",
       "    </tr>\n",
       "    <tr>\n",
       "      <th>13</th>\n",
       "      <td>Joe Biden</td>\n",
       "      <td>Iphone</td>\n",
       "      <td>11</td>\n",
       "    </tr>\n",
       "    <tr>\n",
       "      <th>14</th>\n",
       "      <td>Joe Biden</td>\n",
       "      <td>Media Studio</td>\n",
       "      <td>216</td>\n",
       "    </tr>\n",
       "    <tr>\n",
       "      <th>15</th>\n",
       "      <td>Joe Biden</td>\n",
       "      <td>The White House</td>\n",
       "      <td>2142</td>\n",
       "    </tr>\n",
       "    <tr>\n",
       "      <th>16</th>\n",
       "      <td>Joe Biden</td>\n",
       "      <td>TweetDeck</td>\n",
       "      <td>1</td>\n",
       "    </tr>\n",
       "    <tr>\n",
       "      <th>17</th>\n",
       "      <td>Joe Biden</td>\n",
       "      <td>Web App</td>\n",
       "      <td>24</td>\n",
       "    </tr>\n",
       "    <tr>\n",
       "      <th>18</th>\n",
       "      <td>Justin Bieber</td>\n",
       "      <td>Iphone</td>\n",
       "      <td>2</td>\n",
       "    </tr>\n",
       "    <tr>\n",
       "      <th>19</th>\n",
       "      <td>Justin Bieber</td>\n",
       "      <td>Web App</td>\n",
       "      <td>1</td>\n",
       "    </tr>\n",
       "    <tr>\n",
       "      <th>20</th>\n",
       "      <td>Katy Perry</td>\n",
       "      <td>Iphone</td>\n",
       "      <td>236</td>\n",
       "    </tr>\n",
       "    <tr>\n",
       "      <th>21</th>\n",
       "      <td>Kim Kardashian</td>\n",
       "      <td>Arrow</td>\n",
       "      <td>1</td>\n",
       "    </tr>\n",
       "    <tr>\n",
       "      <th>22</th>\n",
       "      <td>Kim Kardashian</td>\n",
       "      <td>Iphone</td>\n",
       "      <td>804</td>\n",
       "    </tr>\n",
       "    <tr>\n",
       "      <th>23</th>\n",
       "      <td>Kim Kardashian</td>\n",
       "      <td>Mac</td>\n",
       "      <td>1</td>\n",
       "    </tr>\n",
       "    <tr>\n",
       "      <th>24</th>\n",
       "      <td>Kim Kardashian</td>\n",
       "      <td>Web App</td>\n",
       "      <td>1</td>\n",
       "    </tr>\n",
       "    <tr>\n",
       "      <th>25</th>\n",
       "      <td>Lady Gaga</td>\n",
       "      <td>Iphone</td>\n",
       "      <td>214</td>\n",
       "    </tr>\n",
       "    <tr>\n",
       "      <th>26</th>\n",
       "      <td>Narendra Modi</td>\n",
       "      <td>Iphone</td>\n",
       "      <td>1626</td>\n",
       "    </tr>\n",
       "    <tr>\n",
       "      <th>27</th>\n",
       "      <td>Narendra Modi</td>\n",
       "      <td>Media Studio</td>\n",
       "      <td>1384</td>\n",
       "    </tr>\n",
       "    <tr>\n",
       "      <th>28</th>\n",
       "      <td>Narendra Modi</td>\n",
       "      <td>Web App</td>\n",
       "      <td>262</td>\n",
       "    </tr>\n",
       "    <tr>\n",
       "      <th>29</th>\n",
       "      <td>Rihanna</td>\n",
       "      <td>Iphone</td>\n",
       "      <td>64</td>\n",
       "    </tr>\n",
       "    <tr>\n",
       "      <th>30</th>\n",
       "      <td>Ron DeSantis</td>\n",
       "      <td>Iphone</td>\n",
       "      <td>151</td>\n",
       "    </tr>\n",
       "    <tr>\n",
       "      <th>31</th>\n",
       "      <td>Ron DeSantis</td>\n",
       "      <td>Media Studio</td>\n",
       "      <td>202</td>\n",
       "    </tr>\n",
       "    <tr>\n",
       "      <th>32</th>\n",
       "      <td>Ron DeSantis</td>\n",
       "      <td>Periscope</td>\n",
       "      <td>149</td>\n",
       "    </tr>\n",
       "    <tr>\n",
       "      <th>33</th>\n",
       "      <td>Ron DeSantis</td>\n",
       "      <td>Web App</td>\n",
       "      <td>210</td>\n",
       "    </tr>\n",
       "    <tr>\n",
       "      <th>34</th>\n",
       "      <td>Satya Nadella</td>\n",
       "      <td>Media Studio</td>\n",
       "      <td>6</td>\n",
       "    </tr>\n",
       "    <tr>\n",
       "      <th>35</th>\n",
       "      <td>Satya Nadella</td>\n",
       "      <td>Web App</td>\n",
       "      <td>59</td>\n",
       "    </tr>\n",
       "    <tr>\n",
       "      <th>36</th>\n",
       "      <td>Sundar Pichai</td>\n",
       "      <td>Android</td>\n",
       "      <td>66</td>\n",
       "    </tr>\n",
       "    <tr>\n",
       "      <th>37</th>\n",
       "      <td>Sundar Pichai</td>\n",
       "      <td>Media Studio</td>\n",
       "      <td>1</td>\n",
       "    </tr>\n",
       "    <tr>\n",
       "      <th>38</th>\n",
       "      <td>Sundar Pichai</td>\n",
       "      <td>Web App</td>\n",
       "      <td>81</td>\n",
       "    </tr>\n",
       "    <tr>\n",
       "      <th>39</th>\n",
       "      <td>Tim Cook</td>\n",
       "      <td>Iphone</td>\n",
       "      <td>109</td>\n",
       "    </tr>\n",
       "    <tr>\n",
       "      <th>40</th>\n",
       "      <td>Tim Cook</td>\n",
       "      <td>Media Studio</td>\n",
       "      <td>2</td>\n",
       "    </tr>\n",
       "    <tr>\n",
       "      <th>41</th>\n",
       "      <td>Tim Cook</td>\n",
       "      <td>Web App</td>\n",
       "      <td>20</td>\n",
       "    </tr>\n",
       "    <tr>\n",
       "      <th>42</th>\n",
       "      <td>Tim Cook</td>\n",
       "      <td>iPad</td>\n",
       "      <td>24</td>\n",
       "    </tr>\n",
       "    <tr>\n",
       "      <th>43</th>\n",
       "      <td>Volodymyr Zelenskyy</td>\n",
       "      <td>Iphone</td>\n",
       "      <td>695</td>\n",
       "    </tr>\n",
       "    <tr>\n",
       "      <th>44</th>\n",
       "      <td>Volodymyr Zelenskyy</td>\n",
       "      <td>Web App</td>\n",
       "      <td>383</td>\n",
       "    </tr>\n",
       "  </tbody>\n",
       "</table>\n",
       "</div>"
      ],
      "text/plain": [
       "                       name           Device  Tweets\n",
       "0   Alexandria Ocaso-Cortez           Iphone     527\n",
       "1              Barack Obama           Iphone     151\n",
       "2              Barack Obama     Media Studio      47\n",
       "3              Barack Obama          Web App     151\n",
       "4                Bill Gates           Iphone       2\n",
       "5                Bill Gates     Media Studio      26\n",
       "6                Bill Gates          Web App     330\n",
       "7           Ellen Degeneres           Iphone      28\n",
       "8           Ellen Degeneres     Media Studio     709\n",
       "9           Ellen Degeneres          Web App     128\n",
       "10                Elon Musk           Iphone    4103\n",
       "11               Jeff Bezos           Iphone      85\n",
       "12               Jeff Bezos     Media Studio       3\n",
       "13                Joe Biden           Iphone      11\n",
       "14                Joe Biden     Media Studio     216\n",
       "15                Joe Biden  The White House    2142\n",
       "16                Joe Biden        TweetDeck       1\n",
       "17                Joe Biden          Web App      24\n",
       "18            Justin Bieber           Iphone       2\n",
       "19            Justin Bieber          Web App       1\n",
       "20               Katy Perry           Iphone     236\n",
       "21           Kim Kardashian            Arrow       1\n",
       "22           Kim Kardashian           Iphone     804\n",
       "23           Kim Kardashian              Mac       1\n",
       "24           Kim Kardashian          Web App       1\n",
       "25                Lady Gaga           Iphone     214\n",
       "26            Narendra Modi           Iphone    1626\n",
       "27            Narendra Modi     Media Studio    1384\n",
       "28            Narendra Modi          Web App     262\n",
       "29                  Rihanna           Iphone      64\n",
       "30             Ron DeSantis           Iphone     151\n",
       "31             Ron DeSantis     Media Studio     202\n",
       "32             Ron DeSantis        Periscope     149\n",
       "33             Ron DeSantis          Web App     210\n",
       "34            Satya Nadella     Media Studio       6\n",
       "35            Satya Nadella          Web App      59\n",
       "36            Sundar Pichai          Android      66\n",
       "37            Sundar Pichai     Media Studio       1\n",
       "38            Sundar Pichai          Web App      81\n",
       "39                 Tim Cook           Iphone     109\n",
       "40                 Tim Cook     Media Studio       2\n",
       "41                 Tim Cook          Web App      20\n",
       "42                 Tim Cook             iPad      24\n",
       "43      Volodymyr Zelenskyy           Iphone     695\n",
       "44      Volodymyr Zelenskyy          Web App     383"
      ]
     },
     "execution_count": 136,
     "metadata": {},
     "output_type": "execute_result"
    }
   ],
   "source": [
    "# Agg Name & Source\n",
    "source_dict = {'Twitter for iPhone': 'Iphone', \n",
    "               'Twitter for iPad': 'iPad',\n",
    "               'Twitter for Android': 'Android',\n",
    "               'Twitter for Mac': 'Mac',\n",
    "               'Twitter Web App': 'Web App',\n",
    "               'Twitter Media Studio': 'Media Studio',\n",
    "               'Twitter Media Studio - LiveCut': 'Media Studio',\n",
    "               'The White House': 'The White House',\n",
    "               'TweetDeck': 'TweetDeck', \n",
    "               'Periscope': 'Periscope',\n",
    "               'Arrow.': 'Arrow'}\n",
    "\n",
    "tweets_nns = tweets_clean.replace(source_dict).groupby(['name', 'sourceLabel']).agg({'id': 'count' }).reset_index()\n",
    "tweets_nns.rename({'sourceLabel': 'Device', 'id': 'Tweets'}, axis=1, inplace=True)\n",
    "nns_df = tweets_nns.fillna(0)\n",
    "nns_df"
   ]
  },
  {
   "cell_type": "code",
   "execution_count": 146,
   "id": "9b57d32c-75c3-492d-80b9-5dea93e774e0",
   "metadata": {},
   "outputs": [
    {
     "data": {
      "application/vnd.plotly.v1+json": {
       "config": {
        "plotlyServerURL": "https://plot.ly"
       },
       "data": [
        {
         "customdata": [
          [
           527
          ],
          [
           151
          ],
          [
           2
          ],
          [
           28
          ],
          [
           4103
          ],
          [
           85
          ],
          [
           11
          ],
          [
           2
          ],
          [
           236
          ],
          [
           804
          ],
          [
           214
          ],
          [
           1626
          ],
          [
           64
          ],
          [
           151
          ],
          [
           109
          ],
          [
           695
          ]
         ],
         "hovertemplate": "<extra></extra>%{x}:  %{customdata[0]}",
         "legendgroup": "Iphone",
         "marker": {
          "color": "#636efa",
          "size": [
           527,
           151,
           2,
           28,
           4103,
           85,
           11,
           2,
           236,
           804,
           214,
           1626,
           64,
           151,
           109,
           695
          ],
          "sizemode": "area",
          "sizeref": 10.2575,
          "symbol": "circle"
         },
         "mode": "markers",
         "name": "Iphone",
         "orientation": "v",
         "showlegend": true,
         "textfont": {
          "size": 11
         },
         "type": "scatter",
         "x": [
          "Iphone",
          "Iphone",
          "Iphone",
          "Iphone",
          "Iphone",
          "Iphone",
          "Iphone",
          "Iphone",
          "Iphone",
          "Iphone",
          "Iphone",
          "Iphone",
          "Iphone",
          "Iphone",
          "Iphone",
          "Iphone"
         ],
         "xaxis": "x",
         "y": [
          "Alexandria Ocaso-Cortez",
          "Barack Obama",
          "Bill Gates",
          "Ellen Degeneres",
          "Elon Musk",
          "Jeff Bezos",
          "Joe Biden",
          "Justin Bieber",
          "Katy Perry",
          "Kim Kardashian",
          "Lady Gaga",
          "Narendra Modi",
          "Rihanna",
          "Ron DeSantis",
          "Tim Cook",
          "Volodymyr Zelenskyy"
         ],
         "yaxis": "y"
        },
        {
         "customdata": [
          [
           47
          ],
          [
           26
          ],
          [
           709
          ],
          [
           3
          ],
          [
           216
          ],
          [
           1384
          ],
          [
           202
          ],
          [
           6
          ],
          [
           1
          ],
          [
           2
          ]
         ],
         "hovertemplate": "<extra></extra>%{x}:  %{customdata[0]}",
         "legendgroup": "Media Studio",
         "marker": {
          "color": "#EF553B",
          "size": [
           47,
           26,
           709,
           3,
           216,
           1384,
           202,
           6,
           1,
           2
          ],
          "sizemode": "area",
          "sizeref": 10.2575,
          "symbol": "circle"
         },
         "mode": "markers",
         "name": "Media Studio",
         "orientation": "v",
         "showlegend": true,
         "textfont": {
          "size": 11
         },
         "type": "scatter",
         "x": [
          "Media Studio",
          "Media Studio",
          "Media Studio",
          "Media Studio",
          "Media Studio",
          "Media Studio",
          "Media Studio",
          "Media Studio",
          "Media Studio",
          "Media Studio"
         ],
         "xaxis": "x",
         "y": [
          "Barack Obama",
          "Bill Gates",
          "Ellen Degeneres",
          "Jeff Bezos",
          "Joe Biden",
          "Narendra Modi",
          "Ron DeSantis",
          "Satya Nadella",
          "Sundar Pichai",
          "Tim Cook"
         ],
         "yaxis": "y"
        },
        {
         "customdata": [
          [
           151
          ],
          [
           330
          ],
          [
           128
          ],
          [
           24
          ],
          [
           1
          ],
          [
           1
          ],
          [
           262
          ],
          [
           210
          ],
          [
           59
          ],
          [
           81
          ],
          [
           20
          ],
          [
           383
          ]
         ],
         "hovertemplate": "<extra></extra>%{x}:  %{customdata[0]}",
         "legendgroup": "Web App",
         "marker": {
          "color": "#00cc96",
          "size": [
           151,
           330,
           128,
           24,
           1,
           1,
           262,
           210,
           59,
           81,
           20,
           383
          ],
          "sizemode": "area",
          "sizeref": 10.2575,
          "symbol": "circle"
         },
         "mode": "markers",
         "name": "Web App",
         "orientation": "v",
         "showlegend": true,
         "textfont": {
          "size": 11
         },
         "type": "scatter",
         "x": [
          "Web App",
          "Web App",
          "Web App",
          "Web App",
          "Web App",
          "Web App",
          "Web App",
          "Web App",
          "Web App",
          "Web App",
          "Web App",
          "Web App"
         ],
         "xaxis": "x",
         "y": [
          "Barack Obama",
          "Bill Gates",
          "Ellen Degeneres",
          "Joe Biden",
          "Justin Bieber",
          "Kim Kardashian",
          "Narendra Modi",
          "Ron DeSantis",
          "Satya Nadella",
          "Sundar Pichai",
          "Tim Cook",
          "Volodymyr Zelenskyy"
         ],
         "yaxis": "y"
        },
        {
         "customdata": [
          [
           2142
          ]
         ],
         "hovertemplate": "<extra></extra>%{x}:  %{customdata[0]}",
         "legendgroup": "The White House",
         "marker": {
          "color": "#ab63fa",
          "size": [
           2142
          ],
          "sizemode": "area",
          "sizeref": 10.2575,
          "symbol": "circle"
         },
         "mode": "markers",
         "name": "The White House",
         "orientation": "v",
         "showlegend": true,
         "textfont": {
          "size": 11
         },
         "type": "scatter",
         "x": [
          "The White House"
         ],
         "xaxis": "x",
         "y": [
          "Joe Biden"
         ],
         "yaxis": "y"
        },
        {
         "customdata": [
          [
           1
          ]
         ],
         "hovertemplate": "<extra></extra>%{x}:  %{customdata[0]}",
         "legendgroup": "TweetDeck",
         "marker": {
          "color": "#FFA15A",
          "size": [
           1
          ],
          "sizemode": "area",
          "sizeref": 10.2575,
          "symbol": "circle"
         },
         "mode": "markers",
         "name": "TweetDeck",
         "orientation": "v",
         "showlegend": true,
         "textfont": {
          "size": 11
         },
         "type": "scatter",
         "x": [
          "TweetDeck"
         ],
         "xaxis": "x",
         "y": [
          "Joe Biden"
         ],
         "yaxis": "y"
        },
        {
         "customdata": [
          [
           1
          ]
         ],
         "hovertemplate": "<extra></extra>%{x}:  %{customdata[0]}",
         "legendgroup": "Arrow",
         "marker": {
          "color": "#19d3f3",
          "size": [
           1
          ],
          "sizemode": "area",
          "sizeref": 10.2575,
          "symbol": "circle"
         },
         "mode": "markers",
         "name": "Arrow",
         "orientation": "v",
         "showlegend": true,
         "textfont": {
          "size": 11
         },
         "type": "scatter",
         "x": [
          "Arrow"
         ],
         "xaxis": "x",
         "y": [
          "Kim Kardashian"
         ],
         "yaxis": "y"
        },
        {
         "customdata": [
          [
           1
          ]
         ],
         "hovertemplate": "<extra></extra>%{x}:  %{customdata[0]}",
         "legendgroup": "Mac",
         "marker": {
          "color": "#FF6692",
          "size": [
           1
          ],
          "sizemode": "area",
          "sizeref": 10.2575,
          "symbol": "circle"
         },
         "mode": "markers",
         "name": "Mac",
         "orientation": "v",
         "showlegend": true,
         "textfont": {
          "size": 11
         },
         "type": "scatter",
         "x": [
          "Mac"
         ],
         "xaxis": "x",
         "y": [
          "Kim Kardashian"
         ],
         "yaxis": "y"
        },
        {
         "customdata": [
          [
           149
          ]
         ],
         "hovertemplate": "<extra></extra>%{x}:  %{customdata[0]}",
         "legendgroup": "Periscope",
         "marker": {
          "color": "#B6E880",
          "size": [
           149
          ],
          "sizemode": "area",
          "sizeref": 10.2575,
          "symbol": "circle"
         },
         "mode": "markers",
         "name": "Periscope",
         "orientation": "v",
         "showlegend": true,
         "textfont": {
          "size": 11
         },
         "type": "scatter",
         "x": [
          "Periscope"
         ],
         "xaxis": "x",
         "y": [
          "Ron DeSantis"
         ],
         "yaxis": "y"
        },
        {
         "customdata": [
          [
           66
          ]
         ],
         "hovertemplate": "<extra></extra>%{x}:  %{customdata[0]}",
         "legendgroup": "Android",
         "marker": {
          "color": "#FF97FF",
          "size": [
           66
          ],
          "sizemode": "area",
          "sizeref": 10.2575,
          "symbol": "circle"
         },
         "mode": "markers",
         "name": "Android",
         "orientation": "v",
         "showlegend": true,
         "textfont": {
          "size": 11
         },
         "type": "scatter",
         "x": [
          "Android"
         ],
         "xaxis": "x",
         "y": [
          "Sundar Pichai"
         ],
         "yaxis": "y"
        },
        {
         "customdata": [
          [
           24
          ]
         ],
         "hovertemplate": "<extra></extra>%{x}:  %{customdata[0]}",
         "legendgroup": "iPad",
         "marker": {
          "color": "#FECB52",
          "size": [
           24
          ],
          "sizemode": "area",
          "sizeref": 10.2575,
          "symbol": "circle"
         },
         "mode": "markers",
         "name": "iPad",
         "orientation": "v",
         "showlegend": true,
         "textfont": {
          "size": 11
         },
         "type": "scatter",
         "x": [
          "iPad"
         ],
         "xaxis": "x",
         "y": [
          "Tim Cook"
         ],
         "yaxis": "y"
        }
       ],
       "layout": {
        "font": {
         "color": "RoyalBlue",
         "family": "Comic, monospace",
         "size": 14
        },
        "height": 1000,
        "hovermode": "y unified",
        "legend": {
         "itemsizing": "constant",
         "title": {
          "text": "Platform"
         },
         "tracegroupgap": 0
        },
        "margin": {
         "t": 60
        },
        "template": {
         "data": {
          "bar": [
           {
            "error_x": {
             "color": "#2a3f5f"
            },
            "error_y": {
             "color": "#2a3f5f"
            },
            "marker": {
             "line": {
              "color": "#E5ECF6",
              "width": 0.5
             },
             "pattern": {
              "fillmode": "overlay",
              "size": 10,
              "solidity": 0.2
             }
            },
            "type": "bar"
           }
          ],
          "barpolar": [
           {
            "marker": {
             "line": {
              "color": "#E5ECF6",
              "width": 0.5
             },
             "pattern": {
              "fillmode": "overlay",
              "size": 10,
              "solidity": 0.2
             }
            },
            "type": "barpolar"
           }
          ],
          "carpet": [
           {
            "aaxis": {
             "endlinecolor": "#2a3f5f",
             "gridcolor": "white",
             "linecolor": "white",
             "minorgridcolor": "white",
             "startlinecolor": "#2a3f5f"
            },
            "baxis": {
             "endlinecolor": "#2a3f5f",
             "gridcolor": "white",
             "linecolor": "white",
             "minorgridcolor": "white",
             "startlinecolor": "#2a3f5f"
            },
            "type": "carpet"
           }
          ],
          "choropleth": [
           {
            "colorbar": {
             "outlinewidth": 0,
             "ticks": ""
            },
            "type": "choropleth"
           }
          ],
          "contour": [
           {
            "colorbar": {
             "outlinewidth": 0,
             "ticks": ""
            },
            "colorscale": [
             [
              0,
              "#0d0887"
             ],
             [
              0.1111111111111111,
              "#46039f"
             ],
             [
              0.2222222222222222,
              "#7201a8"
             ],
             [
              0.3333333333333333,
              "#9c179e"
             ],
             [
              0.4444444444444444,
              "#bd3786"
             ],
             [
              0.5555555555555556,
              "#d8576b"
             ],
             [
              0.6666666666666666,
              "#ed7953"
             ],
             [
              0.7777777777777778,
              "#fb9f3a"
             ],
             [
              0.8888888888888888,
              "#fdca26"
             ],
             [
              1,
              "#f0f921"
             ]
            ],
            "type": "contour"
           }
          ],
          "contourcarpet": [
           {
            "colorbar": {
             "outlinewidth": 0,
             "ticks": ""
            },
            "type": "contourcarpet"
           }
          ],
          "heatmap": [
           {
            "colorbar": {
             "outlinewidth": 0,
             "ticks": ""
            },
            "colorscale": [
             [
              0,
              "#0d0887"
             ],
             [
              0.1111111111111111,
              "#46039f"
             ],
             [
              0.2222222222222222,
              "#7201a8"
             ],
             [
              0.3333333333333333,
              "#9c179e"
             ],
             [
              0.4444444444444444,
              "#bd3786"
             ],
             [
              0.5555555555555556,
              "#d8576b"
             ],
             [
              0.6666666666666666,
              "#ed7953"
             ],
             [
              0.7777777777777778,
              "#fb9f3a"
             ],
             [
              0.8888888888888888,
              "#fdca26"
             ],
             [
              1,
              "#f0f921"
             ]
            ],
            "type": "heatmap"
           }
          ],
          "heatmapgl": [
           {
            "colorbar": {
             "outlinewidth": 0,
             "ticks": ""
            },
            "colorscale": [
             [
              0,
              "#0d0887"
             ],
             [
              0.1111111111111111,
              "#46039f"
             ],
             [
              0.2222222222222222,
              "#7201a8"
             ],
             [
              0.3333333333333333,
              "#9c179e"
             ],
             [
              0.4444444444444444,
              "#bd3786"
             ],
             [
              0.5555555555555556,
              "#d8576b"
             ],
             [
              0.6666666666666666,
              "#ed7953"
             ],
             [
              0.7777777777777778,
              "#fb9f3a"
             ],
             [
              0.8888888888888888,
              "#fdca26"
             ],
             [
              1,
              "#f0f921"
             ]
            ],
            "type": "heatmapgl"
           }
          ],
          "histogram": [
           {
            "marker": {
             "pattern": {
              "fillmode": "overlay",
              "size": 10,
              "solidity": 0.2
             }
            },
            "type": "histogram"
           }
          ],
          "histogram2d": [
           {
            "colorbar": {
             "outlinewidth": 0,
             "ticks": ""
            },
            "colorscale": [
             [
              0,
              "#0d0887"
             ],
             [
              0.1111111111111111,
              "#46039f"
             ],
             [
              0.2222222222222222,
              "#7201a8"
             ],
             [
              0.3333333333333333,
              "#9c179e"
             ],
             [
              0.4444444444444444,
              "#bd3786"
             ],
             [
              0.5555555555555556,
              "#d8576b"
             ],
             [
              0.6666666666666666,
              "#ed7953"
             ],
             [
              0.7777777777777778,
              "#fb9f3a"
             ],
             [
              0.8888888888888888,
              "#fdca26"
             ],
             [
              1,
              "#f0f921"
             ]
            ],
            "type": "histogram2d"
           }
          ],
          "histogram2dcontour": [
           {
            "colorbar": {
             "outlinewidth": 0,
             "ticks": ""
            },
            "colorscale": [
             [
              0,
              "#0d0887"
             ],
             [
              0.1111111111111111,
              "#46039f"
             ],
             [
              0.2222222222222222,
              "#7201a8"
             ],
             [
              0.3333333333333333,
              "#9c179e"
             ],
             [
              0.4444444444444444,
              "#bd3786"
             ],
             [
              0.5555555555555556,
              "#d8576b"
             ],
             [
              0.6666666666666666,
              "#ed7953"
             ],
             [
              0.7777777777777778,
              "#fb9f3a"
             ],
             [
              0.8888888888888888,
              "#fdca26"
             ],
             [
              1,
              "#f0f921"
             ]
            ],
            "type": "histogram2dcontour"
           }
          ],
          "mesh3d": [
           {
            "colorbar": {
             "outlinewidth": 0,
             "ticks": ""
            },
            "type": "mesh3d"
           }
          ],
          "parcoords": [
           {
            "line": {
             "colorbar": {
              "outlinewidth": 0,
              "ticks": ""
             }
            },
            "type": "parcoords"
           }
          ],
          "pie": [
           {
            "automargin": true,
            "type": "pie"
           }
          ],
          "scatter": [
           {
            "marker": {
             "colorbar": {
              "outlinewidth": 0,
              "ticks": ""
             }
            },
            "type": "scatter"
           }
          ],
          "scatter3d": [
           {
            "line": {
             "colorbar": {
              "outlinewidth": 0,
              "ticks": ""
             }
            },
            "marker": {
             "colorbar": {
              "outlinewidth": 0,
              "ticks": ""
             }
            },
            "type": "scatter3d"
           }
          ],
          "scattercarpet": [
           {
            "marker": {
             "colorbar": {
              "outlinewidth": 0,
              "ticks": ""
             }
            },
            "type": "scattercarpet"
           }
          ],
          "scattergeo": [
           {
            "marker": {
             "colorbar": {
              "outlinewidth": 0,
              "ticks": ""
             }
            },
            "type": "scattergeo"
           }
          ],
          "scattergl": [
           {
            "marker": {
             "colorbar": {
              "outlinewidth": 0,
              "ticks": ""
             }
            },
            "type": "scattergl"
           }
          ],
          "scattermapbox": [
           {
            "marker": {
             "colorbar": {
              "outlinewidth": 0,
              "ticks": ""
             }
            },
            "type": "scattermapbox"
           }
          ],
          "scatterpolar": [
           {
            "marker": {
             "colorbar": {
              "outlinewidth": 0,
              "ticks": ""
             }
            },
            "type": "scatterpolar"
           }
          ],
          "scatterpolargl": [
           {
            "marker": {
             "colorbar": {
              "outlinewidth": 0,
              "ticks": ""
             }
            },
            "type": "scatterpolargl"
           }
          ],
          "scatterternary": [
           {
            "marker": {
             "colorbar": {
              "outlinewidth": 0,
              "ticks": ""
             }
            },
            "type": "scatterternary"
           }
          ],
          "surface": [
           {
            "colorbar": {
             "outlinewidth": 0,
             "ticks": ""
            },
            "colorscale": [
             [
              0,
              "#0d0887"
             ],
             [
              0.1111111111111111,
              "#46039f"
             ],
             [
              0.2222222222222222,
              "#7201a8"
             ],
             [
              0.3333333333333333,
              "#9c179e"
             ],
             [
              0.4444444444444444,
              "#bd3786"
             ],
             [
              0.5555555555555556,
              "#d8576b"
             ],
             [
              0.6666666666666666,
              "#ed7953"
             ],
             [
              0.7777777777777778,
              "#fb9f3a"
             ],
             [
              0.8888888888888888,
              "#fdca26"
             ],
             [
              1,
              "#f0f921"
             ]
            ],
            "type": "surface"
           }
          ],
          "table": [
           {
            "cells": {
             "fill": {
              "color": "#EBF0F8"
             },
             "line": {
              "color": "white"
             }
            },
            "header": {
             "fill": {
              "color": "#C8D4E3"
             },
             "line": {
              "color": "white"
             }
            },
            "type": "table"
           }
          ]
         },
         "layout": {
          "annotationdefaults": {
           "arrowcolor": "#2a3f5f",
           "arrowhead": 0,
           "arrowwidth": 1
          },
          "autotypenumbers": "strict",
          "coloraxis": {
           "colorbar": {
            "outlinewidth": 0,
            "ticks": ""
           }
          },
          "colorscale": {
           "diverging": [
            [
             0,
             "#8e0152"
            ],
            [
             0.1,
             "#c51b7d"
            ],
            [
             0.2,
             "#de77ae"
            ],
            [
             0.3,
             "#f1b6da"
            ],
            [
             0.4,
             "#fde0ef"
            ],
            [
             0.5,
             "#f7f7f7"
            ],
            [
             0.6,
             "#e6f5d0"
            ],
            [
             0.7,
             "#b8e186"
            ],
            [
             0.8,
             "#7fbc41"
            ],
            [
             0.9,
             "#4d9221"
            ],
            [
             1,
             "#276419"
            ]
           ],
           "sequential": [
            [
             0,
             "#0d0887"
            ],
            [
             0.1111111111111111,
             "#46039f"
            ],
            [
             0.2222222222222222,
             "#7201a8"
            ],
            [
             0.3333333333333333,
             "#9c179e"
            ],
            [
             0.4444444444444444,
             "#bd3786"
            ],
            [
             0.5555555555555556,
             "#d8576b"
            ],
            [
             0.6666666666666666,
             "#ed7953"
            ],
            [
             0.7777777777777778,
             "#fb9f3a"
            ],
            [
             0.8888888888888888,
             "#fdca26"
            ],
            [
             1,
             "#f0f921"
            ]
           ],
           "sequentialminus": [
            [
             0,
             "#0d0887"
            ],
            [
             0.1111111111111111,
             "#46039f"
            ],
            [
             0.2222222222222222,
             "#7201a8"
            ],
            [
             0.3333333333333333,
             "#9c179e"
            ],
            [
             0.4444444444444444,
             "#bd3786"
            ],
            [
             0.5555555555555556,
             "#d8576b"
            ],
            [
             0.6666666666666666,
             "#ed7953"
            ],
            [
             0.7777777777777778,
             "#fb9f3a"
            ],
            [
             0.8888888888888888,
             "#fdca26"
            ],
            [
             1,
             "#f0f921"
            ]
           ]
          },
          "colorway": [
           "#636efa",
           "#EF553B",
           "#00cc96",
           "#ab63fa",
           "#FFA15A",
           "#19d3f3",
           "#FF6692",
           "#B6E880",
           "#FF97FF",
           "#FECB52"
          ],
          "font": {
           "color": "#2a3f5f"
          },
          "geo": {
           "bgcolor": "white",
           "lakecolor": "white",
           "landcolor": "#E5ECF6",
           "showlakes": true,
           "showland": true,
           "subunitcolor": "white"
          },
          "hoverlabel": {
           "align": "left"
          },
          "hovermode": "closest",
          "mapbox": {
           "style": "light"
          },
          "paper_bgcolor": "white",
          "plot_bgcolor": "#E5ECF6",
          "polar": {
           "angularaxis": {
            "gridcolor": "white",
            "linecolor": "white",
            "ticks": ""
           },
           "bgcolor": "#E5ECF6",
           "radialaxis": {
            "gridcolor": "white",
            "linecolor": "white",
            "ticks": ""
           }
          },
          "scene": {
           "xaxis": {
            "backgroundcolor": "#E5ECF6",
            "gridcolor": "white",
            "gridwidth": 2,
            "linecolor": "white",
            "showbackground": true,
            "ticks": "",
            "zerolinecolor": "white"
           },
           "yaxis": {
            "backgroundcolor": "#E5ECF6",
            "gridcolor": "white",
            "gridwidth": 2,
            "linecolor": "white",
            "showbackground": true,
            "ticks": "",
            "zerolinecolor": "white"
           },
           "zaxis": {
            "backgroundcolor": "#E5ECF6",
            "gridcolor": "white",
            "gridwidth": 2,
            "linecolor": "white",
            "showbackground": true,
            "ticks": "",
            "zerolinecolor": "white"
           }
          },
          "shapedefaults": {
           "line": {
            "color": "#2a3f5f"
           }
          },
          "ternary": {
           "aaxis": {
            "gridcolor": "white",
            "linecolor": "white",
            "ticks": ""
           },
           "baxis": {
            "gridcolor": "white",
            "linecolor": "white",
            "ticks": ""
           },
           "bgcolor": "#E5ECF6",
           "caxis": {
            "gridcolor": "white",
            "linecolor": "white",
            "ticks": ""
           }
          },
          "title": {
           "x": 0.05
          },
          "xaxis": {
           "automargin": true,
           "gridcolor": "white",
           "linecolor": "white",
           "ticks": "",
           "title": {
            "standoff": 15
           },
           "zerolinecolor": "white",
           "zerolinewidth": 2
          },
          "yaxis": {
           "automargin": true,
           "gridcolor": "white",
           "linecolor": "white",
           "ticks": "",
           "title": {
            "standoff": 15
           },
           "zerolinecolor": "white",
           "zerolinewidth": 2
          }
         }
        },
        "title": {
         "font": {
          "size": 22
         },
         "text": "Tweets by Twitter Platform",
         "x": 0.5,
         "xanchor": "center"
        },
        "width": 800,
        "xaxis": {
         "anchor": "y",
         "autorange": true,
         "categoryarray": [
          "Iphone",
          "Media Studio",
          "Web App",
          "The White House",
          "TweetDeck",
          "Arrow",
          "Mac",
          "Periscope",
          "Android",
          "iPad"
         ],
         "categoryorder": "array",
         "domain": [
          0,
          1
         ],
         "range": [
          -0.9773871160670037,
          9.61455946755224
         ],
         "title": {
          "text": "Category"
         },
         "type": "category"
        },
        "yaxis": {
         "anchor": "x",
         "autorange": true,
         "domain": [
          0,
          1
         ],
         "range": [
          -1.0877503637027977,
          18.025594092787273
         ],
         "title": {
          "text": "Tweets"
         },
         "type": "category"
        }
       }
      },
      "image/png": "[encoded data removed]",
      "text/html": [
       "<div>                            <div id=\"b6ea9a8d-d3d7-4031-bd93-bd5b5599b314\" class=\"plotly-graph-div\" style=\"height:1000px; width:800px;\"></div>            <script type=\"text/javascript\">                require([\"plotly\"], function(Plotly) {                    window.PLOTLYENV=window.PLOTLYENV || {};                                    if (document.getElementById(\"b6ea9a8d-d3d7-4031-bd93-bd5b5599b314\")) {                    Plotly.newPlot(                        \"b6ea9a8d-d3d7-4031-bd93-bd5b5599b314\",                        [{\"customdata\":[[527],[151],[2],[28],[4103],[85],[11],[2],[236],[804],[214],[1626],[64],[151],[109],[695]],\"hovertemplate\":\"<extra></extra>%{x}:  %{customdata[0]}\",\"legendgroup\":\"Iphone\",\"marker\":{\"color\":\"#636efa\",\"size\":[527,151,2,28,4103,85,11,2,236,804,214,1626,64,151,109,695],\"sizemode\":\"area\",\"sizeref\":10.2575,\"symbol\":\"circle\"},\"mode\":\"markers\",\"name\":\"Iphone\",\"orientation\":\"v\",\"showlegend\":true,\"x\":[\"Iphone\",\"Iphone\",\"Iphone\",\"Iphone\",\"Iphone\",\"Iphone\",\"Iphone\",\"Iphone\",\"Iphone\",\"Iphone\",\"Iphone\",\"Iphone\",\"Iphone\",\"Iphone\",\"Iphone\",\"Iphone\"],\"xaxis\":\"x\",\"y\":[\"Alexandria Ocaso-Cortez\",\"Barack Obama\",\"Bill Gates\",\"Ellen Degeneres\",\"Elon Musk\",\"Jeff Bezos\",\"Joe Biden\",\"Justin Bieber\",\"Katy Perry\",\"Kim Kardashian\",\"Lady Gaga\",\"Narendra Modi\",\"Rihanna\",\"Ron DeSantis\",\"Tim Cook\",\"Volodymyr Zelenskyy\"],\"yaxis\":\"y\",\"type\":\"scatter\",\"textfont\":{\"size\":11}},{\"customdata\":[[47],[26],[709],[3],[216],[1384],[202],[6],[1],[2]],\"hovertemplate\":\"<extra></extra>%{x}:  %{customdata[0]}\",\"legendgroup\":\"Media Studio\",\"marker\":{\"color\":\"#EF553B\",\"size\":[47,26,709,3,216,1384,202,6,1,2],\"sizemode\":\"area\",\"sizeref\":10.2575,\"symbol\":\"circle\"},\"mode\":\"markers\",\"name\":\"Media Studio\",\"orientation\":\"v\",\"showlegend\":true,\"x\":[\"Media Studio\",\"Media Studio\",\"Media Studio\",\"Media Studio\",\"Media Studio\",\"Media Studio\",\"Media Studio\",\"Media Studio\",\"Media Studio\",\"Media Studio\"],\"xaxis\":\"x\",\"y\":[\"Barack Obama\",\"Bill Gates\",\"Ellen Degeneres\",\"Jeff Bezos\",\"Joe Biden\",\"Narendra Modi\",\"Ron DeSantis\",\"Satya Nadella\",\"Sundar Pichai\",\"Tim Cook\"],\"yaxis\":\"y\",\"type\":\"scatter\",\"textfont\":{\"size\":11}},{\"customdata\":[[151],[330],[128],[24],[1],[1],[262],[210],[59],[81],[20],[383]],\"hovertemplate\":\"<extra></extra>%{x}:  %{customdata[0]}\",\"legendgroup\":\"Web App\",\"marker\":{\"color\":\"#00cc96\",\"size\":[151,330,128,24,1,1,262,210,59,81,20,383],\"sizemode\":\"area\",\"sizeref\":10.2575,\"symbol\":\"circle\"},\"mode\":\"markers\",\"name\":\"Web App\",\"orientation\":\"v\",\"showlegend\":true,\"x\":[\"Web App\",\"Web App\",\"Web App\",\"Web App\",\"Web App\",\"Web App\",\"Web App\",\"Web App\",\"Web App\",\"Web App\",\"Web App\",\"Web App\"],\"xaxis\":\"x\",\"y\":[\"Barack Obama\",\"Bill Gates\",\"Ellen Degeneres\",\"Joe Biden\",\"Justin Bieber\",\"Kim Kardashian\",\"Narendra Modi\",\"Ron DeSantis\",\"Satya Nadella\",\"Sundar Pichai\",\"Tim Cook\",\"Volodymyr Zelenskyy\"],\"yaxis\":\"y\",\"type\":\"scatter\",\"textfont\":{\"size\":11}},{\"customdata\":[[2142]],\"hovertemplate\":\"<extra></extra>%{x}:  %{customdata[0]}\",\"legendgroup\":\"The White House\",\"marker\":{\"color\":\"#ab63fa\",\"size\":[2142],\"sizemode\":\"area\",\"sizeref\":10.2575,\"symbol\":\"circle\"},\"mode\":\"markers\",\"name\":\"The White House\",\"orientation\":\"v\",\"showlegend\":true,\"x\":[\"The White House\"],\"xaxis\":\"x\",\"y\":[\"Joe Biden\"],\"yaxis\":\"y\",\"type\":\"scatter\",\"textfont\":{\"size\":11}},{\"customdata\":[[1]],\"hovertemplate\":\"<extra></extra>%{x}:  %{customdata[0]}\",\"legendgroup\":\"TweetDeck\",\"marker\":{\"color\":\"#FFA15A\",\"size\":[1],\"sizemode\":\"area\",\"sizeref\":10.2575,\"symbol\":\"circle\"},\"mode\":\"markers\",\"name\":\"TweetDeck\",\"orientation\":\"v\",\"showlegend\":true,\"x\":[\"TweetDeck\"],\"xaxis\":\"x\",\"y\":[\"Joe Biden\"],\"yaxis\":\"y\",\"type\":\"scatter\",\"textfont\":{\"size\":11}},{\"customdata\":[[1]],\"hovertemplate\":\"<extra></extra>%{x}:  %{customdata[0]}\",\"legendgroup\":\"Arrow\",\"marker\":{\"color\":\"#19d3f3\",\"size\":[1],\"sizemode\":\"area\",\"sizeref\":10.2575,\"symbol\":\"circle\"},\"mode\":\"markers\",\"name\":\"Arrow\",\"orientation\":\"v\",\"showlegend\":true,\"x\":[\"Arrow\"],\"xaxis\":\"x\",\"y\":[\"Kim Kardashian\"],\"yaxis\":\"y\",\"type\":\"scatter\",\"textfont\":{\"size\":11}},{\"customdata\":[[1]],\"hovertemplate\":\"<extra></extra>%{x}:  %{customdata[0]}\",\"legendgroup\":\"Mac\",\"marker\":{\"color\":\"#FF6692\",\"size\":[1],\"sizemode\":\"area\",\"sizeref\":10.2575,\"symbol\":\"circle\"},\"mode\":\"markers\",\"name\":\"Mac\",\"orientation\":\"v\",\"showlegend\":true,\"x\":[\"Mac\"],\"xaxis\":\"x\",\"y\":[\"Kim Kardashian\"],\"yaxis\":\"y\",\"type\":\"scatter\",\"textfont\":{\"size\":11}},{\"customdata\":[[149]],\"hovertemplate\":\"<extra></extra>%{x}:  %{customdata[0]}\",\"legendgroup\":\"Periscope\",\"marker\":{\"color\":\"#B6E880\",\"size\":[149],\"sizemode\":\"area\",\"sizeref\":10.2575,\"symbol\":\"circle\"},\"mode\":\"markers\",\"name\":\"Periscope\",\"orientation\":\"v\",\"showlegend\":true,\"x\":[\"Periscope\"],\"xaxis\":\"x\",\"y\":[\"Ron DeSantis\"],\"yaxis\":\"y\",\"type\":\"scatter\",\"textfont\":{\"size\":11}},{\"customdata\":[[66]],\"hovertemplate\":\"<extra></extra>%{x}:  %{customdata[0]}\",\"legendgroup\":\"Android\",\"marker\":{\"color\":\"#FF97FF\",\"size\":[66],\"sizemode\":\"area\",\"sizeref\":10.2575,\"symbol\":\"circle\"},\"mode\":\"markers\",\"name\":\"Android\",\"orientation\":\"v\",\"showlegend\":true,\"x\":[\"Android\"],\"xaxis\":\"x\",\"y\":[\"Sundar Pichai\"],\"yaxis\":\"y\",\"type\":\"scatter\",\"textfont\":{\"size\":11}},{\"customdata\":[[24]],\"hovertemplate\":\"<extra></extra>%{x}:  %{customdata[0]}\",\"legendgroup\":\"iPad\",\"marker\":{\"color\":\"#FECB52\",\"size\":[24],\"sizemode\":\"area\",\"sizeref\":10.2575,\"symbol\":\"circle\"},\"mode\":\"markers\",\"name\":\"iPad\",\"orientation\":\"v\",\"showlegend\":true,\"x\":[\"iPad\"],\"xaxis\":\"x\",\"y\":[\"Tim Cook\"],\"yaxis\":\"y\",\"type\":\"scatter\",\"textfont\":{\"size\":11}}],                        {\"template\":{\"data\":{\"bar\":[{\"error_x\":{\"color\":\"#2a3f5f\"},\"error_y\":{\"color\":\"#2a3f5f\"},\"marker\":{\"line\":{\"color\":\"#E5ECF6\",\"width\":0.5},\"pattern\":{\"fillmode\":\"overlay\",\"size\":10,\"solidity\":0.2}},\"type\":\"bar\"}],\"barpolar\":[{\"marker\":{\"line\":{\"color\":\"#E5ECF6\",\"width\":0.5},\"pattern\":{\"fillmode\":\"overlay\",\"size\":10,\"solidity\":0.2}},\"type\":\"barpolar\"}],\"carpet\":[{\"aaxis\":{\"endlinecolor\":\"#2a3f5f\",\"gridcolor\":\"white\",\"linecolor\":\"white\",\"minorgridcolor\":\"white\",\"startlinecolor\":\"#2a3f5f\"},\"baxis\":{\"endlinecolor\":\"#2a3f5f\",\"gridcolor\":\"white\",\"linecolor\":\"white\",\"minorgridcolor\":\"white\",\"startlinecolor\":\"#2a3f5f\"},\"type\":\"carpet\"}],\"choropleth\":[{\"colorbar\":{\"outlinewidth\":0,\"ticks\":\"\"},\"type\":\"choropleth\"}],\"contour\":[{\"colorbar\":{\"outlinewidth\":0,\"ticks\":\"\"},\"colorscale\":[[0.0,\"#0d0887\"],[0.1111111111111111,\"#46039f\"],[0.2222222222222222,\"#7201a8\"],[0.3333333333333333,\"#9c179e\"],[0.4444444444444444,\"#bd3786\"],[0.5555555555555556,\"#d8576b\"],[0.6666666666666666,\"#ed7953\"],[0.7777777777777778,\"#fb9f3a\"],[0.8888888888888888,\"#fdca26\"],[1.0,\"#f0f921\"]],\"type\":\"contour\"}],\"contourcarpet\":[{\"colorbar\":{\"outlinewidth\":0,\"ticks\":\"\"},\"type\":\"contourcarpet\"}],\"heatmap\":[{\"colorbar\":{\"outlinewidth\":0,\"ticks\":\"\"},\"colorscale\":[[0.0,\"#0d0887\"],[0.1111111111111111,\"#46039f\"],[0.2222222222222222,\"#7201a8\"],[0.3333333333333333,\"#9c179e\"],[0.4444444444444444,\"#bd3786\"],[0.5555555555555556,\"#d8576b\"],[0.6666666666666666,\"#ed7953\"],[0.7777777777777778,\"#fb9f3a\"],[0.8888888888888888,\"#fdca26\"],[1.0,\"#f0f921\"]],\"type\":\"heatmap\"}],\"heatmapgl\":[{\"colorbar\":{\"outlinewidth\":0,\"ticks\":\"\"},\"colorscale\":[[0.0,\"#0d0887\"],[0.1111111111111111,\"#46039f\"],[0.2222222222222222,\"#7201a8\"],[0.3333333333333333,\"#9c179e\"],[0.4444444444444444,\"#bd3786\"],[0.5555555555555556,\"#d8576b\"],[0.6666666666666666,\"#ed7953\"],[0.7777777777777778,\"#fb9f3a\"],[0.8888888888888888,\"#fdca26\"],[1.0,\"#f0f921\"]],\"type\":\"heatmapgl\"}],\"histogram\":[{\"marker\":{\"pattern\":{\"fillmode\":\"overlay\",\"size\":10,\"solidity\":0.2}},\"type\":\"histogram\"}],\"histogram2d\":[{\"colorbar\":{\"outlinewidth\":0,\"ticks\":\"\"},\"colorscale\":[[0.0,\"#0d0887\"],[0.1111111111111111,\"#46039f\"],[0.2222222222222222,\"#7201a8\"],[0.3333333333333333,\"#9c179e\"],[0.4444444444444444,\"#bd3786\"],[0.5555555555555556,\"#d8576b\"],[0.6666666666666666,\"#ed7953\"],[0.7777777777777778,\"#fb9f3a\"],[0.8888888888888888,\"#fdca26\"],[1.0,\"#f0f921\"]],\"type\":\"histogram2d\"}],\"histogram2dcontour\":[{\"colorbar\":{\"outlinewidth\":0,\"ticks\":\"\"},\"colorscale\":[[0.0,\"#0d0887\"],[0.1111111111111111,\"#46039f\"],[0.2222222222222222,\"#7201a8\"],[0.3333333333333333,\"#9c179e\"],[0.4444444444444444,\"#bd3786\"],[0.5555555555555556,\"#d8576b\"],[0.6666666666666666,\"#ed7953\"],[0.7777777777777778,\"#fb9f3a\"],[0.8888888888888888,\"#fdca26\"],[1.0,\"#f0f921\"]],\"type\":\"histogram2dcontour\"}],\"mesh3d\":[{\"colorbar\":{\"outlinewidth\":0,\"ticks\":\"\"},\"type\":\"mesh3d\"}],\"parcoords\":[{\"line\":{\"colorbar\":{\"outlinewidth\":0,\"ticks\":\"\"}},\"type\":\"parcoords\"}],\"pie\":[{\"automargin\":true,\"type\":\"pie\"}],\"scatter\":[{\"marker\":{\"colorbar\":{\"outlinewidth\":0,\"ticks\":\"\"}},\"type\":\"scatter\"}],\"scatter3d\":[{\"line\":{\"colorbar\":{\"outlinewidth\":0,\"ticks\":\"\"}},\"marker\":{\"colorbar\":{\"outlinewidth\":0,\"ticks\":\"\"}},\"type\":\"scatter3d\"}],\"scattercarpet\":[{\"marker\":{\"colorbar\":{\"outlinewidth\":0,\"ticks\":\"\"}},\"type\":\"scattercarpet\"}],\"scattergeo\":[{\"marker\":{\"colorbar\":{\"outlinewidth\":0,\"ticks\":\"\"}},\"type\":\"scattergeo\"}],\"scattergl\":[{\"marker\":{\"colorbar\":{\"outlinewidth\":0,\"ticks\":\"\"}},\"type\":\"scattergl\"}],\"scattermapbox\":[{\"marker\":{\"colorbar\":{\"outlinewidth\":0,\"ticks\":\"\"}},\"type\":\"scattermapbox\"}],\"scatterpolar\":[{\"marker\":{\"colorbar\":{\"outlinewidth\":0,\"ticks\":\"\"}},\"type\":\"scatterpolar\"}],\"scatterpolargl\":[{\"marker\":{\"colorbar\":{\"outlinewidth\":0,\"ticks\":\"\"}},\"type\":\"scatterpolargl\"}],\"scatterternary\":[{\"marker\":{\"colorbar\":{\"outlinewidth\":0,\"ticks\":\"\"}},\"type\":\"scatterternary\"}],\"surface\":[{\"colorbar\":{\"outlinewidth\":0,\"ticks\":\"\"},\"colorscale\":[[0.0,\"#0d0887\"],[0.1111111111111111,\"#46039f\"],[0.2222222222222222,\"#7201a8\"],[0.3333333333333333,\"#9c179e\"],[0.4444444444444444,\"#bd3786\"],[0.5555555555555556,\"#d8576b\"],[0.6666666666666666,\"#ed7953\"],[0.7777777777777778,\"#fb9f3a\"],[0.8888888888888888,\"#fdca26\"],[1.0,\"#f0f921\"]],\"type\":\"surface\"}],\"table\":[{\"cells\":{\"fill\":{\"color\":\"#EBF0F8\"},\"line\":{\"color\":\"white\"}},\"header\":{\"fill\":{\"color\":\"#C8D4E3\"},\"line\":{\"color\":\"white\"}},\"type\":\"table\"}]},\"layout\":{\"annotationdefaults\":{\"arrowcolor\":\"#2a3f5f\",\"arrowhead\":0,\"arrowwidth\":1},\"autotypenumbers\":\"strict\",\"coloraxis\":{\"colorbar\":{\"outlinewidth\":0,\"ticks\":\"\"}},\"colorscale\":{\"diverging\":[[0,\"#8e0152\"],[0.1,\"#c51b7d\"],[0.2,\"#de77ae\"],[0.3,\"#f1b6da\"],[0.4,\"#fde0ef\"],[0.5,\"#f7f7f7\"],[0.6,\"#e6f5d0\"],[0.7,\"#b8e186\"],[0.8,\"#7fbc41\"],[0.9,\"#4d9221\"],[1,\"#276419\"]],\"sequential\":[[0.0,\"#0d0887\"],[0.1111111111111111,\"#46039f\"],[0.2222222222222222,\"#7201a8\"],[0.3333333333333333,\"#9c179e\"],[0.4444444444444444,\"#bd3786\"],[0.5555555555555556,\"#d8576b\"],[0.6666666666666666,\"#ed7953\"],[0.7777777777777778,\"#fb9f3a\"],[0.8888888888888888,\"#fdca26\"],[1.0,\"#f0f921\"]],\"sequentialminus\":[[0.0,\"#0d0887\"],[0.1111111111111111,\"#46039f\"],[0.2222222222222222,\"#7201a8\"],[0.3333333333333333,\"#9c179e\"],[0.4444444444444444,\"#bd3786\"],[0.5555555555555556,\"#d8576b\"],[0.6666666666666666,\"#ed7953\"],[0.7777777777777778,\"#fb9f3a\"],[0.8888888888888888,\"#fdca26\"],[1.0,\"#f0f921\"]]},\"colorway\":[\"#636efa\",\"#EF553B\",\"#00cc96\",\"#ab63fa\",\"#FFA15A\",\"#19d3f3\",\"#FF6692\",\"#B6E880\",\"#FF97FF\",\"#FECB52\"],\"font\":{\"color\":\"#2a3f5f\"},\"geo\":{\"bgcolor\":\"white\",\"lakecolor\":\"white\",\"landcolor\":\"#E5ECF6\",\"showlakes\":true,\"showland\":true,\"subunitcolor\":\"white\"},\"hoverlabel\":{\"align\":\"left\"},\"hovermode\":\"closest\",\"mapbox\":{\"style\":\"light\"},\"paper_bgcolor\":\"white\",\"plot_bgcolor\":\"#E5ECF6\",\"polar\":{\"angularaxis\":{\"gridcolor\":\"white\",\"linecolor\":\"white\",\"ticks\":\"\"},\"bgcolor\":\"#E5ECF6\",\"radialaxis\":{\"gridcolor\":\"white\",\"linecolor\":\"white\",\"ticks\":\"\"}},\"scene\":{\"xaxis\":{\"backgroundcolor\":\"#E5ECF6\",\"gridcolor\":\"white\",\"gridwidth\":2,\"linecolor\":\"white\",\"showbackground\":true,\"ticks\":\"\",\"zerolinecolor\":\"white\"},\"yaxis\":{\"backgroundcolor\":\"#E5ECF6\",\"gridcolor\":\"white\",\"gridwidth\":2,\"linecolor\":\"white\",\"showbackground\":true,\"ticks\":\"\",\"zerolinecolor\":\"white\"},\"zaxis\":{\"backgroundcolor\":\"#E5ECF6\",\"gridcolor\":\"white\",\"gridwidth\":2,\"linecolor\":\"white\",\"showbackground\":true,\"ticks\":\"\",\"zerolinecolor\":\"white\"}},\"shapedefaults\":{\"line\":{\"color\":\"#2a3f5f\"}},\"ternary\":{\"aaxis\":{\"gridcolor\":\"white\",\"linecolor\":\"white\",\"ticks\":\"\"},\"baxis\":{\"gridcolor\":\"white\",\"linecolor\":\"white\",\"ticks\":\"\"},\"bgcolor\":\"#E5ECF6\",\"caxis\":{\"gridcolor\":\"white\",\"linecolor\":\"white\",\"ticks\":\"\"}},\"title\":{\"x\":0.05},\"xaxis\":{\"automargin\":true,\"gridcolor\":\"white\",\"linecolor\":\"white\",\"ticks\":\"\",\"title\":{\"standoff\":15},\"zerolinecolor\":\"white\",\"zerolinewidth\":2},\"yaxis\":{\"automargin\":true,\"gridcolor\":\"white\",\"linecolor\":\"white\",\"ticks\":\"\",\"title\":{\"standoff\":15},\"zerolinecolor\":\"white\",\"zerolinewidth\":2}}},\"xaxis\":{\"anchor\":\"y\",\"domain\":[0.0,1.0],\"title\":{\"text\":\"Category\"},\"categoryorder\":\"array\",\"categoryarray\":[\"Iphone\",\"Media Studio\",\"Web App\",\"The White House\",\"TweetDeck\",\"Arrow\",\"Mac\",\"Periscope\",\"Android\",\"iPad\"]},\"yaxis\":{\"anchor\":\"x\",\"domain\":[0.0,1.0],\"title\":{\"text\":\"Tweets\"}},\"legend\":{\"title\":{\"text\":\"Platform\"},\"tracegroupgap\":0,\"itemsizing\":\"constant\"},\"margin\":{\"t\":60},\"title\":{\"text\":\"Tweets by Twitter Platform\",\"font\":{\"size\":22},\"x\":0.5,\"xanchor\":\"center\"},\"font\":{\"family\":\"Comic, monospace\",\"size\":14,\"color\":\"RoyalBlue\"},\"width\":800,\"height\":1000,\"hovermode\":\"y unified\"},                        {\"responsive\": true}                    ).then(function(){\n",
       "                            \n",
       "var gd = document.getElementById('b6ea9a8d-d3d7-4031-bd93-bd5b5599b314');\n",
       "var x = new MutationObserver(function (mutations, observer) {{\n",
       "        var display = window.getComputedStyle(gd).display;\n",
       "        if (!display || display === 'none') {{\n",
       "            console.log([gd, 'removed!']);\n",
       "            Plotly.purge(gd);\n",
       "            observer.disconnect();\n",
       "        }}\n",
       "}});\n",
       "\n",
       "// Listen for the removal of the full notebook cells\n",
       "var notebookContainer = gd.closest('#notebook-container');\n",
       "if (notebookContainer) {{\n",
       "    x.observe(notebookContainer, {childList: true});\n",
       "}}\n",
       "\n",
       "// Listen for the clearing of the current output cell\n",
       "var outputEl = gd.closest('.output');\n",
       "if (outputEl) {{\n",
       "    x.observe(outputEl, {childList: true});\n",
       "}}\n",
       "\n",
       "                        })                };                });            </script>        </div>"
      ]
     },
     "metadata": {},
     "output_type": "display_data"
    }
   ],
   "source": [
    "# Bar charts: Device usage\n",
    "\n",
    "\n",
    "name_platform = px.scatter(nns_df, \n",
    "                       x = 'Device',\n",
    "                       y = 'name', \n",
    "                       color = 'Device',\n",
    "                       custom_data = ['Tweets'],\n",
    "                           size='Tweets'\n",
    "                          )\n",
    "\n",
    "name_platform.update_traces(hovertemplate='<extra></extra>'+\n",
    "                            '%{x}:  %{customdata[0]}',\n",
    "                            textfont_size=11,\n",
    "                                       #title_xaxis=\"Category\",\n",
    "                              #marker=dict(colors=['gold', 'mediumturquoise',  'lightgreen'], \n",
    "                                          #line=dict(color='#000000', width=1))\n",
    "                             )\n",
    "\n",
    "name_platform.update_layout(yaxis_title = 'Tweets', \n",
    "                         width = 800, height = 1000,\n",
    "                         title=\"Tweets by Twitter Platform\", \n",
    "                         title_font_size = 22,\n",
    "                         title_x = 0.5,\n",
    "                         title_xanchor = 'center',\n",
    "                         xaxis_title=\"Category\",\n",
    "                         legend_title=\"Platform\",\n",
    "                         hovermode='y unified',\n",
    "                         font=dict(family=\"Comic, monospace\",\n",
    "                                   size=14,\n",
    "                                   color=\"RoyalBlue\")\n",
    "                        )\n",
    "\n",
    "name_platform.show()"
   ]
  }
 ],
 "metadata": {
  "kernelspec": {
   "display_name": "TWIT",
   "language": "python",
   "name": "twit"
  },
  "language_info": {
   "codemirror_mode": {
    "name": "ipython",
    "version": 3
   },
   "file_extension": ".py",
   "mimetype": "text/x-python",
   "name": "python",
   "nbconvert_exporter": "python",
   "pygments_lexer": "ipython3",
   "version": "3.9.12"
  }
 },
 "nbformat": 4,
 "nbformat_minor": 5
}
