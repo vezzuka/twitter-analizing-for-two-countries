{
 "cells": [
  {
   "cell_type": "code",
   "execution_count": 48,
   "id": "427ca3d9-16b1-4be4-ba3b-9510ad07def3",
   "metadata": {},
   "outputs": [],
   "source": [
    "# Import packages\n",
    "\n",
    "import os\n",
    "import pandas as pd"
   ]
  },
  {
   "cell_type": "code",
   "execution_count": 33,
   "id": "dbcab2b6-4e0f-46c1-9e1a-cd94000b383a",
   "metadata": {},
   "outputs": [],
   "source": [
    "# Initialize variables\n",
    "tweet_count = 5000\n",
    "username = 'elonmusk'\n",
    "since_date = '2022-01-01'\n",
    "\n",
    "# Using OS library to get tweets from Elon Musk for 2022\n",
    "os.system(f'snscrape --jsonl --since {since_date} twitter-search \"from:{username}\"> musk_tweets_2022.json');"
   ]
  },
  {
   "cell_type": "code",
   "execution_count": 38,
   "id": "51fa1974-3200-4a95-ad56-c1a8c04394d2",
   "metadata": {},
   "outputs": [
    {
     "name": "stderr",
     "output_type": "stream",
     "text": [
      "Scraping, 100 results so far\n",
      "Scraping, 100 results so far\n",
      "Scraping, 100 results so far\n",
      "Scraping, 200 results so far\n",
      "Scraping, 300 results so far\n"
     ]
    }
   ],
   "source": [
    "# Initialize variables\n",
    "username = ['sundarpichai', 'tim_cook', 'BillGates', 'finkd']\n",
    "since_date = '2022-01-01'\n",
    "\n",
    "# Using OS library to get tweets from other Big Tech CEOs\n",
    "for user in username:\n",
    "    json_file = f'{user}_tweets_2022.json'\n",
    "    os.system(f'snscrape --jsonl --progress --since {since_date} twitter-search \"from:{user}\"> {json_file}');"
   ]
  },
  {
   "cell_type": "code",
   "execution_count": 75,
   "id": "ce8b599b-032d-4df8-a802-07483c87ab04",
   "metadata": {},
   "outputs": [],
   "source": [
    "sundarpichai = pd.read_json('sundarpichai_tweets_2022.json', lines=True)\n",
    "sundarpichai['user_name'] = 'Sundar Pichai'\n",
    "tim_cook = pd.read_json('tim_cook_tweets_2022.json', lines=True)\n",
    "tim_cook['user_name'] = 'Tim Cook'\n",
    "BillGates = pd.read_json('BillGates_tweets_2022.json', lines=True)\n",
    "BillGates['user_name'] = 'Bill Gates'\n",
    "finkd = pd.read_json('finkd_tweets_2022.json', lines=True)\n",
    "finkd['user_name'] = 'Mark Zuckerberg'\n",
    "\n",
    "CEOs = pd.concat([tim_cook, sundarpichai,BillGates, finkd], axis = 0, ignore_index=True)\n",
    "\n",
    "CEOs.to_csv(os.getcwd()+ r'/CEOs.csv',index=False)"
   ]
  },
  {
   "cell_type": "code",
   "execution_count": 96,
   "id": "18c3cdd3-69ef-4a64-9e04-145ced2a4fee",
   "metadata": {},
   "outputs": [
    {
     "data": {
      "text/html": [
       "<div>\n",
       "<style scoped>\n",
       "    .dataframe tbody tr th:only-of-type {\n",
       "        vertical-align: middle;\n",
       "    }\n",
       "\n",
       "    .dataframe tbody tr th {\n",
       "        vertical-align: top;\n",
       "    }\n",
       "\n",
       "    .dataframe thead tr th {\n",
       "        text-align: left;\n",
       "    }\n",
       "\n",
       "    .dataframe thead tr:last-of-type th {\n",
       "        text-align: right;\n",
       "    }\n",
       "</style>\n",
       "<table border=\"1\" class=\"dataframe\">\n",
       "  <thead>\n",
       "    <tr>\n",
       "      <th></th>\n",
       "      <th>id</th>\n",
       "      <th>hashtags</th>\n",
       "      <th colspan=\"2\" halign=\"left\">replyCount</th>\n",
       "      <th colspan=\"2\" halign=\"left\">retweetCount</th>\n",
       "      <th colspan=\"2\" halign=\"left\">likeCount</th>\n",
       "    </tr>\n",
       "    <tr>\n",
       "      <th></th>\n",
       "      <th>count</th>\n",
       "      <th>nunique</th>\n",
       "      <th>sum</th>\n",
       "      <th>mean</th>\n",
       "      <th>sum</th>\n",
       "      <th>mean</th>\n",
       "      <th>sum</th>\n",
       "      <th>mean</th>\n",
       "    </tr>\n",
       "    <tr>\n",
       "      <th>user_name</th>\n",
       "      <th></th>\n",
       "      <th></th>\n",
       "      <th></th>\n",
       "      <th></th>\n",
       "      <th></th>\n",
       "      <th></th>\n",
       "      <th></th>\n",
       "      <th></th>\n",
       "    </tr>\n",
       "  </thead>\n",
       "  <tbody>\n",
       "    <tr>\n",
       "      <th>Bill Gates</th>\n",
       "      <td>358</td>\n",
       "      <td>29</td>\n",
       "      <td>675.0</td>\n",
       "      <td>1.9</td>\n",
       "      <td>146175.0</td>\n",
       "      <td>408.3</td>\n",
       "      <td>1006243.0</td>\n",
       "      <td>2810.7</td>\n",
       "    </tr>\n",
       "    <tr>\n",
       "      <th>Sundar Pichai</th>\n",
       "      <td>147</td>\n",
       "      <td>22</td>\n",
       "      <td>40177.0</td>\n",
       "      <td>273.3</td>\n",
       "      <td>101383.0</td>\n",
       "      <td>689.7</td>\n",
       "      <td>996174.0</td>\n",
       "      <td>6776.7</td>\n",
       "    </tr>\n",
       "    <tr>\n",
       "      <th>Tim Cook</th>\n",
       "      <td>155</td>\n",
       "      <td>20</td>\n",
       "      <td>57212.0</td>\n",
       "      <td>369.1</td>\n",
       "      <td>148076.0</td>\n",
       "      <td>955.3</td>\n",
       "      <td>1434594.0</td>\n",
       "      <td>9255.4</td>\n",
       "    </tr>\n",
       "  </tbody>\n",
       "</table>\n",
       "</div>"
      ],
      "text/plain": [
       "                 id hashtags replyCount        retweetCount         likeCount  \\\n",
       "              count  nunique        sum   mean          sum   mean        sum   \n",
       "user_name                                                                       \n",
       "Bill Gates      358       29      675.0    1.9     146175.0  408.3  1006243.0   \n",
       "Sundar Pichai   147       22    40177.0  273.3     101383.0  689.7   996174.0   \n",
       "Tim Cook        155       20    57212.0  369.1     148076.0  955.3  1434594.0   \n",
       "\n",
       "                       \n",
       "                 mean  \n",
       "user_name              \n",
       "Bill Gates     2810.7  \n",
       "Sundar Pichai  6776.7  \n",
       "Tim Cook       9255.4  "
      ]
     },
     "execution_count": 96,
     "metadata": {},
     "output_type": "execute_result"
    }
   ],
   "source": [
    "CEO_tweets_df = pd.read_csv(os.getcwd()+r'/Apps/TwitterChallenge/twitter-analyzing-for-two-countries/data/CEOs.csv')\n",
    "\n",
    "CEO_tweets_df.groupby(['user_name']).agg({'id': 'count', 'hashtags': 'nunique', 'replyCount': ['sum', 'mean'], 'retweetCount': ['sum', 'mean'], 'likeCount': ['sum', 'mean']}).round(1)"
   ]
  }
 ],
 "metadata": {
  "kernelspec": {
   "display_name": "TWIT",
   "language": "python",
   "name": "twit"
  },
  "language_info": {
   "codemirror_mode": {
    "name": "ipython",
    "version": 3
   },
   "file_extension": ".py",
   "mimetype": "text/x-python",
   "name": "python",
   "nbconvert_exporter": "python",
   "pygments_lexer": "ipython3",
   "version": "3.9.12"
  }
 },
 "nbformat": 4,
 "nbformat_minor": 5
}
